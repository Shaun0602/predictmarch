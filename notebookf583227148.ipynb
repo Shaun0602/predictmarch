{
 "cells": [
  {
   "cell_type": "code",
   "execution_count": 1,
   "id": "central-cliff",
   "metadata": {
    "execution": {
     "iopub.execute_input": "2021-05-03T21:14:10.662649Z",
     "iopub.status.busy": "2021-05-03T21:14:10.658921Z",
     "iopub.status.idle": "2021-05-03T21:14:12.785043Z",
     "shell.execute_reply": "2021-05-03T21:14:12.785627Z"
    },
    "papermill": {
     "duration": 2.156238,
     "end_time": "2021-05-03T21:14:12.785947",
     "exception": false,
     "start_time": "2021-05-03T21:14:10.629709",
     "status": "completed"
    },
    "tags": []
   },
   "outputs": [],
   "source": [
    "import numpy as np \n",
    "import pandas as pd\n",
    "from sklearn.model_selection import train_test_split\n",
    "from sklearn.linear_model import LogisticRegression\n",
    "from sklearn import metrics \n",
    "from nltk.tokenize import word_tokenize, TreebankWordTokenizer\n",
    "import nltk\n",
    "import string\n",
    "import re\n",
    "from nltk.corpus import stopwords\n",
    "from nltk import SnowballStemmer\n",
    "from nltk.stem import WordNetLemmatizer\n",
    "from nltk.corpus import stopwords\n",
    "from sklearn.pipeline import Pipeline\n",
    "from sklearn.feature_extraction.text import TfidfVectorizer\n",
    "from sklearn.svm import LinearSVC\n",
    "from sklearn.metrics import confusion_matrix, classification_report, accuracy_score\n",
    "from sklearn.ensemble import RandomForestClassifier\n",
    "import xgboost as xgb\n"
   ]
  },
  {
   "cell_type": "code",
   "execution_count": 2,
   "id": "banned-carter",
   "metadata": {
    "execution": {
     "iopub.execute_input": "2021-05-03T21:14:12.825481Z",
     "iopub.status.busy": "2021-05-03T21:14:12.824781Z",
     "iopub.status.idle": "2021-05-03T21:14:12.942152Z",
     "shell.execute_reply": "2021-05-03T21:14:12.941532Z"
    },
    "papermill": {
     "duration": 0.138747,
     "end_time": "2021-05-03T21:14:12.942287",
     "exception": false,
     "start_time": "2021-05-03T21:14:12.803540",
     "status": "completed"
    },
    "tags": []
   },
   "outputs": [
    {
     "data": {
      "text/html": [
       "<div>\n",
       "<style scoped>\n",
       "    .dataframe tbody tr th:only-of-type {\n",
       "        vertical-align: middle;\n",
       "    }\n",
       "\n",
       "    .dataframe tbody tr th {\n",
       "        vertical-align: top;\n",
       "    }\n",
       "\n",
       "    .dataframe thead th {\n",
       "        text-align: right;\n",
       "    }\n",
       "</style>\n",
       "<table border=\"1\" class=\"dataframe\">\n",
       "  <thead>\n",
       "    <tr style=\"text-align: right;\">\n",
       "      <th></th>\n",
       "      <th>sentiment</th>\n",
       "      <th>message</th>\n",
       "      <th>tweetid</th>\n",
       "    </tr>\n",
       "  </thead>\n",
       "  <tbody>\n",
       "    <tr>\n",
       "      <th>0</th>\n",
       "      <td>1</td>\n",
       "      <td>PolySciMajor EPA chief doesn't think carbon di...</td>\n",
       "      <td>625221</td>\n",
       "    </tr>\n",
       "    <tr>\n",
       "      <th>1</th>\n",
       "      <td>1</td>\n",
       "      <td>It's not like we lack evidence of anthropogeni...</td>\n",
       "      <td>126103</td>\n",
       "    </tr>\n",
       "    <tr>\n",
       "      <th>2</th>\n",
       "      <td>2</td>\n",
       "      <td>RT @RawStory: Researchers say we have three ye...</td>\n",
       "      <td>698562</td>\n",
       "    </tr>\n",
       "    <tr>\n",
       "      <th>3</th>\n",
       "      <td>1</td>\n",
       "      <td>#TodayinMaker# WIRED : 2016 was a pivotal year...</td>\n",
       "      <td>573736</td>\n",
       "    </tr>\n",
       "    <tr>\n",
       "      <th>4</th>\n",
       "      <td>1</td>\n",
       "      <td>RT @SoyNovioDeTodas: It's 2016, and a racist, ...</td>\n",
       "      <td>466954</td>\n",
       "    </tr>\n",
       "  </tbody>\n",
       "</table>\n",
       "</div>"
      ],
      "text/plain": [
       "   sentiment                                            message  tweetid\n",
       "0          1  PolySciMajor EPA chief doesn't think carbon di...   625221\n",
       "1          1  It's not like we lack evidence of anthropogeni...   126103\n",
       "2          2  RT @RawStory: Researchers say we have three ye...   698562\n",
       "3          1  #TodayinMaker# WIRED : 2016 was a pivotal year...   573736\n",
       "4          1  RT @SoyNovioDeTodas: It's 2016, and a racist, ...   466954"
      ]
     },
     "execution_count": 2,
     "metadata": {},
     "output_type": "execute_result"
    }
   ],
   "source": [
    "df = pd.read_csv('../input/edsa-climate-change-belief-analysis-2021/train.csv')\n",
    "df.head()\n"
   ]
  },
  {
   "cell_type": "code",
   "execution_count": 3,
   "id": "complicated-postcard",
   "metadata": {
    "execution": {
     "iopub.execute_input": "2021-05-03T21:14:12.983422Z",
     "iopub.status.busy": "2021-05-03T21:14:12.982700Z",
     "iopub.status.idle": "2021-05-03T21:14:13.064561Z",
     "shell.execute_reply": "2021-05-03T21:14:13.065032Z"
    },
    "papermill": {
     "duration": 0.104779,
     "end_time": "2021-05-03T21:14:13.065229",
     "exception": false,
     "start_time": "2021-05-03T21:14:12.960450",
     "status": "completed"
    },
    "tags": []
   },
   "outputs": [
    {
     "data": {
      "text/html": [
       "<div>\n",
       "<style scoped>\n",
       "    .dataframe tbody tr th:only-of-type {\n",
       "        vertical-align: middle;\n",
       "    }\n",
       "\n",
       "    .dataframe tbody tr th {\n",
       "        vertical-align: top;\n",
       "    }\n",
       "\n",
       "    .dataframe thead th {\n",
       "        text-align: right;\n",
       "    }\n",
       "</style>\n",
       "<table border=\"1\" class=\"dataframe\">\n",
       "  <thead>\n",
       "    <tr style=\"text-align: right;\">\n",
       "      <th></th>\n",
       "      <th>message</th>\n",
       "      <th>tweetid</th>\n",
       "    </tr>\n",
       "  </thead>\n",
       "  <tbody>\n",
       "    <tr>\n",
       "      <th>0</th>\n",
       "      <td>Europe will now be looking to China to make su...</td>\n",
       "      <td>169760</td>\n",
       "    </tr>\n",
       "    <tr>\n",
       "      <th>1</th>\n",
       "      <td>Combine this with the polling of staffers re c...</td>\n",
       "      <td>35326</td>\n",
       "    </tr>\n",
       "    <tr>\n",
       "      <th>2</th>\n",
       "      <td>The scary, unimpeachable evidence that climate...</td>\n",
       "      <td>224985</td>\n",
       "    </tr>\n",
       "    <tr>\n",
       "      <th>3</th>\n",
       "      <td>@Karoli @morgfair @OsborneInk @dailykos \\nPuti...</td>\n",
       "      <td>476263</td>\n",
       "    </tr>\n",
       "    <tr>\n",
       "      <th>4</th>\n",
       "      <td>RT @FakeWillMoore: 'Female orgasms cause globa...</td>\n",
       "      <td>872928</td>\n",
       "    </tr>\n",
       "  </tbody>\n",
       "</table>\n",
       "</div>"
      ],
      "text/plain": [
       "                                             message  tweetid\n",
       "0  Europe will now be looking to China to make su...   169760\n",
       "1  Combine this with the polling of staffers re c...    35326\n",
       "2  The scary, unimpeachable evidence that climate...   224985\n",
       "3  @Karoli @morgfair @OsborneInk @dailykos \\nPuti...   476263\n",
       "4  RT @FakeWillMoore: 'Female orgasms cause globa...   872928"
      ]
     },
     "execution_count": 3,
     "metadata": {},
     "output_type": "execute_result"
    }
   ],
   "source": [
    "fi = pd.read_csv('../input/edsa-climate-change-belief-analysis-2021/test.csv')\n",
    "fi.head()\n"
   ]
  },
  {
   "cell_type": "code",
   "execution_count": 4,
   "id": "critical-warrant",
   "metadata": {
    "execution": {
     "iopub.execute_input": "2021-05-03T21:14:13.111924Z",
     "iopub.status.busy": "2021-05-03T21:14:13.109396Z",
     "iopub.status.idle": "2021-05-03T21:14:13.117369Z",
     "shell.execute_reply": "2021-05-03T21:14:13.116805Z"
    },
    "papermill": {
     "duration": 0.033697,
     "end_time": "2021-05-03T21:14:13.117513",
     "exception": false,
     "start_time": "2021-05-03T21:14:13.083816",
     "status": "completed"
    },
    "tags": []
   },
   "outputs": [
    {
     "data": {
      "text/plain": [
       "sentiment    0\n",
       "message      0\n",
       "tweetid      0\n",
       "dtype: int64"
      ]
     },
     "execution_count": 4,
     "metadata": {},
     "output_type": "execute_result"
    }
   ],
   "source": [
    "df.isnull().sum()"
   ]
  },
  {
   "cell_type": "code",
   "execution_count": 5,
   "id": "yellow-excess",
   "metadata": {
    "execution": {
     "iopub.execute_input": "2021-05-03T21:14:13.183789Z",
     "iopub.status.busy": "2021-05-03T21:14:13.167926Z",
     "iopub.status.idle": "2021-05-03T21:14:13.978313Z",
     "shell.execute_reply": "2021-05-03T21:14:13.978871Z"
    },
    "papermill": {
     "duration": 0.842802,
     "end_time": "2021-05-03T21:14:13.979068",
     "exception": false,
     "start_time": "2021-05-03T21:14:13.136266",
     "status": "completed"
    },
    "tags": []
   },
   "outputs": [],
   "source": [
    "# write function for removing @user\n",
    "def remove_pattern(input_txt, pattern):\n",
    "    r = re.findall(pattern, input_txt)\n",
    "    for i in r:\n",
    "        input_txt = re.sub(i,'',input_txt)\n",
    "    return input_txt\n",
    "\n",
    "\n",
    "df['dm'] = np.vectorize(remove_pattern)(df['message'], '@[\\w]*')"
   ]
  },
  {
   "cell_type": "code",
   "execution_count": 6,
   "id": "republican-guitar",
   "metadata": {
    "execution": {
     "iopub.execute_input": "2021-05-03T21:14:14.049409Z",
     "iopub.status.busy": "2021-05-03T21:14:14.028497Z",
     "iopub.status.idle": "2021-05-03T21:14:14.069285Z",
     "shell.execute_reply": "2021-05-03T21:14:14.068624Z"
    },
    "papermill": {
     "duration": 0.071363,
     "end_time": "2021-05-03T21:14:14.069445",
     "exception": false,
     "start_time": "2021-05-03T21:14:13.998082",
     "status": "completed"
    },
    "tags": []
   },
   "outputs": [],
   "source": [
    "#removing weblink\n",
    "df['dm'] = df['dm'].apply(lambda x: re.split('https:\\/\\/.*', str(x))[0])\n"
   ]
  },
  {
   "cell_type": "code",
   "execution_count": 7,
   "id": "individual-disposal",
   "metadata": {
    "execution": {
     "iopub.execute_input": "2021-05-03T21:14:14.169672Z",
     "iopub.status.busy": "2021-05-03T21:14:14.143578Z",
     "iopub.status.idle": "2021-05-03T21:14:14.289771Z",
     "shell.execute_reply": "2021-05-03T21:14:14.288922Z"
    },
    "papermill": {
     "duration": 0.200676,
     "end_time": "2021-05-03T21:14:14.289982",
     "exception": false,
     "start_time": "2021-05-03T21:14:14.089306",
     "status": "completed"
    },
    "tags": []
   },
   "outputs": [
    {
     "name": "stderr",
     "output_type": "stream",
     "text": [
      "/opt/conda/lib/python3.7/site-packages/ipykernel_launcher.py:2: FutureWarning: The default value of regex will change from True to False in a future version.\n",
      "  \n"
     ]
    }
   ],
   "source": [
    "# remove special characters, numbers, punctuations\n",
    "df['dm'] = df['dm'].str.replace('[^a-zA-Z#]+',' ')"
   ]
  },
  {
   "cell_type": "code",
   "execution_count": 8,
   "id": "individual-piano",
   "metadata": {
    "execution": {
     "iopub.execute_input": "2021-05-03T21:14:14.377724Z",
     "iopub.status.busy": "2021-05-03T21:14:14.372596Z",
     "iopub.status.idle": "2021-05-03T21:14:14.407671Z",
     "shell.execute_reply": "2021-05-03T21:14:14.407098Z"
    },
    "papermill": {
     "duration": 0.096778,
     "end_time": "2021-05-03T21:14:14.407821",
     "exception": false,
     "start_time": "2021-05-03T21:14:14.311043",
     "status": "completed"
    },
    "tags": []
   },
   "outputs": [],
   "source": [
    "#removing 1 or 2 leeter words\n",
    "df['dm'] = df['dm'].apply(lambda x: ' '.join([w for w in x.split() if len(w) > 2]))"
   ]
  },
  {
   "cell_type": "code",
   "execution_count": 9,
   "id": "adopted-speech",
   "metadata": {
    "execution": {
     "iopub.execute_input": "2021-05-03T21:14:14.478557Z",
     "iopub.status.busy": "2021-05-03T21:14:14.473558Z",
     "iopub.status.idle": "2021-05-03T21:14:14.486046Z",
     "shell.execute_reply": "2021-05-03T21:14:14.485444Z"
    },
    "papermill": {
     "duration": 0.058573,
     "end_time": "2021-05-03T21:14:14.486217",
     "exception": false,
     "start_time": "2021-05-03T21:14:14.427644",
     "status": "completed"
    },
    "tags": []
   },
   "outputs": [],
   "source": [
    "# create new variable tokenized message \n",
    "tokenized_dm = df['dm'].apply(lambda x: x.split())"
   ]
  },
  {
   "cell_type": "code",
   "execution_count": 10,
   "id": "organic-combine",
   "metadata": {
    "execution": {
     "iopub.execute_input": "2021-05-03T21:14:14.557396Z",
     "iopub.status.busy": "2021-05-03T21:14:14.536258Z",
     "iopub.status.idle": "2021-05-03T21:14:18.120320Z",
     "shell.execute_reply": "2021-05-03T21:14:18.119501Z"
    },
    "papermill": {
     "duration": 3.614525,
     "end_time": "2021-05-03T21:14:18.120532",
     "exception": false,
     "start_time": "2021-05-03T21:14:14.506007",
     "status": "completed"
    },
    "tags": []
   },
   "outputs": [],
   "source": [
    "#stemming the tokenized message\n",
    "stemmer = SnowballStemmer('english')\n",
    "tokenized_dm = tokenized_dm.apply(lambda x: [stemmer.stem(i) for i in x])\n"
   ]
  },
  {
   "cell_type": "code",
   "execution_count": 11,
   "id": "every-ballet",
   "metadata": {
    "execution": {
     "iopub.execute_input": "2021-05-03T21:14:18.176473Z",
     "iopub.status.busy": "2021-05-03T21:14:18.175519Z",
     "iopub.status.idle": "2021-05-03T21:14:18.432397Z",
     "shell.execute_reply": "2021-05-03T21:14:18.431417Z"
    },
    "papermill": {
     "duration": 0.284823,
     "end_time": "2021-05-03T21:14:18.432599",
     "exception": false,
     "start_time": "2021-05-03T21:14:18.147776",
     "status": "completed"
    },
    "tags": []
   },
   "outputs": [],
   "source": [
    "# join tokens into one sentence\n",
    "for i in range(len(tokenized_dm)):\n",
    "    tokenized_dm[i] = ' '.join(tokenized_dm[i])\n",
    "\n",
    "df['dm']  = tokenized_dm"
   ]
  },
  {
   "cell_type": "code",
   "execution_count": 12,
   "id": "finished-discretion",
   "metadata": {
    "execution": {
     "iopub.execute_input": "2021-05-03T21:14:18.479331Z",
     "iopub.status.busy": "2021-05-03T21:14:18.478617Z",
     "iopub.status.idle": "2021-05-03T21:14:20.788694Z",
     "shell.execute_reply": "2021-05-03T21:14:20.788118Z"
    },
    "papermill": {
     "duration": 2.335626,
     "end_time": "2021-05-03T21:14:20.788854",
     "exception": false,
     "start_time": "2021-05-03T21:14:18.453228",
     "status": "completed"
    },
    "tags": []
   },
   "outputs": [
    {
     "data": {
      "text/plain": [
       "0        [p, l, c, j, r,  , e, p,  , c, h, e, f,  , e, ...\n",
       "1        [n,  , l, k, e,  , l, c, k,  , e, v,  , n, h, ...\n",
       "2        [r, e, e, r, c, h,  ,  , h, v, e,  , h, r, e, ...\n",
       "3        [#, n, k, e, r, #,  , w, r, e,  , w,  , p, v, ...\n",
       "4        [n,  , r, c,  , e, x,  , c, l,  , c, h, n, g, ...\n",
       "                               ...                        \n",
       "15814    [h, e,  , k,  , w, n,  , h, e,  , e, r,  , g, ...\n",
       "15815    [h, w,  , c, l,  , c, h, n, g,  , c, u, l,  , ...\n",
       "15816    [n, v, e, n,  , n, e, w, r, l,  , w, h,  , e, ...\n",
       "15817    [h, e,  , l, b, e, r,  , h, e,  , c, l,  , c, ...\n",
       "15818    [c, l,  , c, h, n, g,  , e, q, u,  , c, r, e, ...\n",
       "Name: dm, Length: 15819, dtype: object"
      ]
     },
     "execution_count": 12,
     "metadata": {},
     "output_type": "execute_result"
    }
   ],
   "source": [
    "stopw = stopwords.words('english')\n",
    "df['dm'].apply(lambda x: [item for item in x if item not in stopw])"
   ]
  },
  {
   "cell_type": "code",
   "execution_count": 13,
   "id": "regular-grain",
   "metadata": {
    "execution": {
     "iopub.execute_input": "2021-05-03T21:14:20.836083Z",
     "iopub.status.busy": "2021-05-03T21:14:20.835386Z",
     "iopub.status.idle": "2021-05-03T21:14:20.838633Z",
     "shell.execute_reply": "2021-05-03T21:14:20.838046Z"
    },
    "papermill": {
     "duration": 0.029061,
     "end_time": "2021-05-03T21:14:20.838779",
     "exception": false,
     "start_time": "2021-05-03T21:14:20.809718",
     "status": "completed"
    },
    "tags": []
   },
   "outputs": [],
   "source": [
    "#split data\n",
    "X = df['message']\n",
    "y = df['sentiment']\n",
    "\n",
    "\n"
   ]
  },
  {
   "cell_type": "code",
   "execution_count": 14,
   "id": "together-atlas",
   "metadata": {
    "execution": {
     "iopub.execute_input": "2021-05-03T21:14:20.887028Z",
     "iopub.status.busy": "2021-05-03T21:14:20.886232Z",
     "iopub.status.idle": "2021-05-03T21:14:20.892596Z",
     "shell.execute_reply": "2021-05-03T21:14:20.892006Z"
    },
    "papermill": {
     "duration": 0.032888,
     "end_time": "2021-05-03T21:14:20.892738",
     "exception": false,
     "start_time": "2021-05-03T21:14:20.859850",
     "status": "completed"
    },
    "tags": []
   },
   "outputs": [],
   "source": [
    "X_train, X_test, y_train, y_test = train_test_split( X, y, test_size=0.33, random_state=42)"
   ]
  },
  {
   "cell_type": "code",
   "execution_count": 15,
   "id": "bottom-subscriber",
   "metadata": {
    "execution": {
     "iopub.execute_input": "2021-05-03T21:14:20.940368Z",
     "iopub.status.busy": "2021-05-03T21:14:20.939359Z",
     "iopub.status.idle": "2021-05-03T21:14:20.942541Z",
     "shell.execute_reply": "2021-05-03T21:14:20.941972Z"
    },
    "papermill": {
     "duration": 0.028944,
     "end_time": "2021-05-03T21:14:20.942736",
     "exception": false,
     "start_time": "2021-05-03T21:14:20.913792",
     "status": "completed"
    },
    "tags": []
   },
   "outputs": [],
   "source": [
    "text_clf = Pipeline([('tfidf',TfidfVectorizer()),('clf',LinearSVC())])"
   ]
  },
  {
   "cell_type": "code",
   "execution_count": 16,
   "id": "digital-battlefield",
   "metadata": {
    "execution": {
     "iopub.execute_input": "2021-05-03T21:14:20.987602Z",
     "iopub.status.busy": "2021-05-03T21:14:20.986974Z",
     "iopub.status.idle": "2021-05-03T21:14:21.596231Z",
     "shell.execute_reply": "2021-05-03T21:14:21.595666Z"
    },
    "papermill": {
     "duration": 0.632841,
     "end_time": "2021-05-03T21:14:21.596387",
     "exception": false,
     "start_time": "2021-05-03T21:14:20.963546",
     "status": "completed"
    },
    "tags": []
   },
   "outputs": [
    {
     "data": {
      "text/plain": [
       "Pipeline(steps=[('tfidf', TfidfVectorizer()), ('clf', LinearSVC())])"
      ]
     },
     "execution_count": 16,
     "metadata": {},
     "output_type": "execute_result"
    }
   ],
   "source": [
    "text_clf.fit(X_train, y_train)"
   ]
  },
  {
   "cell_type": "code",
   "execution_count": 17,
   "id": "thick-samuel",
   "metadata": {
    "execution": {
     "iopub.execute_input": "2021-05-03T21:14:21.642822Z",
     "iopub.status.busy": "2021-05-03T21:14:21.641875Z",
     "iopub.status.idle": "2021-05-03T21:14:21.645960Z",
     "shell.execute_reply": "2021-05-03T21:14:21.646476Z"
    },
    "papermill": {
     "duration": 0.028922,
     "end_time": "2021-05-03T21:14:21.646659",
     "exception": false,
     "start_time": "2021-05-03T21:14:21.617737",
     "status": "completed"
    },
    "tags": []
   },
   "outputs": [],
   "source": [
    "jaco = fi['message']\n"
   ]
  },
  {
   "cell_type": "code",
   "execution_count": 18,
   "id": "prerequisite-example",
   "metadata": {
    "execution": {
     "iopub.execute_input": "2021-05-03T21:14:21.693796Z",
     "iopub.status.busy": "2021-05-03T21:14:21.692773Z",
     "iopub.status.idle": "2021-05-03T21:14:21.998586Z",
     "shell.execute_reply": "2021-05-03T21:14:21.999116Z"
    },
    "papermill": {
     "duration": 0.330813,
     "end_time": "2021-05-03T21:14:21.999319",
     "exception": false,
     "start_time": "2021-05-03T21:14:21.668506",
     "status": "completed"
    },
    "tags": []
   },
   "outputs": [],
   "source": [
    "#Predictions\n",
    "fi['sentiment'] = text_clf.predict(jaco)"
   ]
  },
  {
   "cell_type": "code",
   "execution_count": 19,
   "id": "acquired-local",
   "metadata": {
    "execution": {
     "iopub.execute_input": "2021-05-03T21:14:22.046239Z",
     "iopub.status.busy": "2021-05-03T21:14:22.045237Z",
     "iopub.status.idle": "2021-05-03T21:14:22.052329Z",
     "shell.execute_reply": "2021-05-03T21:14:22.052809Z"
    },
    "papermill": {
     "duration": 0.032392,
     "end_time": "2021-05-03T21:14:22.052992",
     "exception": false,
     "start_time": "2021-05-03T21:14:22.020600",
     "status": "completed"
    },
    "tags": []
   },
   "outputs": [],
   "source": [
    "fi.reset_index()\n",
    "fi.drop(['message'], axis='columns', inplace=True)"
   ]
  },
  {
   "cell_type": "code",
   "execution_count": 20,
   "id": "quantitative-postage",
   "metadata": {
    "execution": {
     "iopub.execute_input": "2021-05-03T21:14:22.101758Z",
     "iopub.status.busy": "2021-05-03T21:14:22.100805Z",
     "iopub.status.idle": "2021-05-03T21:14:22.109586Z",
     "shell.execute_reply": "2021-05-03T21:14:22.108943Z"
    },
    "papermill": {
     "duration": 0.034195,
     "end_time": "2021-05-03T21:14:22.109724",
     "exception": false,
     "start_time": "2021-05-03T21:14:22.075529",
     "status": "completed"
    },
    "tags": []
   },
   "outputs": [
    {
     "name": "stdout",
     "output_type": "stream",
     "text": [
      "       tweetid  sentiment\n",
      "0       169760          1\n",
      "1        35326          1\n",
      "2       224985          1\n",
      "3       476263          1\n",
      "4       872928          0\n",
      "...        ...        ...\n",
      "10541   895714          1\n",
      "10542   875167          1\n",
      "10543    78329          2\n",
      "10544   867455          0\n",
      "10545   470892          1\n",
      "\n",
      "[10546 rows x 2 columns]\n"
     ]
    }
   ],
   "source": [
    "print(fi)"
   ]
  },
  {
   "cell_type": "code",
   "execution_count": 21,
   "id": "auburn-qualification",
   "metadata": {
    "execution": {
     "iopub.execute_input": "2021-05-03T21:14:22.158643Z",
     "iopub.status.busy": "2021-05-03T21:14:22.157995Z",
     "iopub.status.idle": "2021-05-03T21:14:22.160022Z",
     "shell.execute_reply": "2021-05-03T21:14:22.160616Z"
    },
    "papermill": {
     "duration": 0.028725,
     "end_time": "2021-05-03T21:14:22.160788",
     "exception": false,
     "start_time": "2021-05-03T21:14:22.132063",
     "status": "completed"
    },
    "tags": []
   },
   "outputs": [],
   "source": [
    "#print(confusion_matrix(y_test,predictions))"
   ]
  },
  {
   "cell_type": "code",
   "execution_count": 22,
   "id": "everyday-fireplace",
   "metadata": {
    "execution": {
     "iopub.execute_input": "2021-05-03T21:14:22.210323Z",
     "iopub.status.busy": "2021-05-03T21:14:22.209669Z",
     "iopub.status.idle": "2021-05-03T21:14:22.211616Z",
     "shell.execute_reply": "2021-05-03T21:14:22.212151Z"
    },
    "papermill": {
     "duration": 0.029273,
     "end_time": "2021-05-03T21:14:22.212328",
     "exception": false,
     "start_time": "2021-05-03T21:14:22.183055",
     "status": "completed"
    },
    "tags": []
   },
   "outputs": [],
   "source": [
    "#print(classification_report(y_test,predictions))"
   ]
  },
  {
   "cell_type": "code",
   "execution_count": 23,
   "id": "fiscal-store",
   "metadata": {
    "execution": {
     "iopub.execute_input": "2021-05-03T21:14:22.261035Z",
     "iopub.status.busy": "2021-05-03T21:14:22.260413Z",
     "iopub.status.idle": "2021-05-03T21:14:22.264795Z",
     "shell.execute_reply": "2021-05-03T21:14:22.264129Z"
    },
    "papermill": {
     "duration": 0.029423,
     "end_time": "2021-05-03T21:14:22.264931",
     "exception": false,
     "start_time": "2021-05-03T21:14:22.235508",
     "status": "completed"
    },
    "tags": []
   },
   "outputs": [],
   "source": [
    "#print(accuracy_score(y_test,predictions))"
   ]
  },
  {
   "cell_type": "code",
   "execution_count": 24,
   "id": "homeless-neutral",
   "metadata": {
    "execution": {
     "iopub.execute_input": "2021-05-03T21:14:22.316812Z",
     "iopub.status.busy": "2021-05-03T21:14:22.316126Z",
     "iopub.status.idle": "2021-05-03T21:14:22.343457Z",
     "shell.execute_reply": "2021-05-03T21:14:22.342780Z"
    },
    "papermill": {
     "duration": 0.054951,
     "end_time": "2021-05-03T21:14:22.343597",
     "exception": false,
     "start_time": "2021-05-03T21:14:22.288646",
     "status": "completed"
    },
    "tags": []
   },
   "outputs": [],
   "source": [
    "fi.to_csv('mycsvfile.csv',index=False)"
   ]
  },
  {
   "cell_type": "code",
   "execution_count": null,
   "id": "widespread-hawaii",
   "metadata": {
    "papermill": {
     "duration": 0.022146,
     "end_time": "2021-05-03T21:14:22.388493",
     "exception": false,
     "start_time": "2021-05-03T21:14:22.366347",
     "status": "completed"
    },
    "tags": []
   },
   "outputs": [],
   "source": []
  }
 ],
 "metadata": {
  "kernelspec": {
   "display_name": "Python 3",
   "language": "python",
   "name": "python3"
  },
  "language_info": {
   "codemirror_mode": {
    "name": "ipython",
    "version": 3
   },
   "file_extension": ".py",
   "mimetype": "text/x-python",
   "name": "python",
   "nbconvert_exporter": "python",
   "pygments_lexer": "ipython3",
   "version": "3.7.10"
  },
  "papermill": {
   "default_parameters": {},
   "duration": 21.95302,
   "end_time": "2021-05-03T21:14:23.662704",
   "environment_variables": {},
   "exception": null,
   "input_path": "__notebook__.ipynb",
   "output_path": "__notebook__.ipynb",
   "parameters": {},
   "start_time": "2021-05-03T21:14:01.709684",
   "version": "2.3.3"
  }
 },
 "nbformat": 4,
 "nbformat_minor": 5
}
